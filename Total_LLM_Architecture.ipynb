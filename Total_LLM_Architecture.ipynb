{
 "cells": [
  {
   "cell_type": "code",
   "execution_count": 1,
   "metadata": {},
   "outputs": [],
   "source": [
    "import torch\n",
    "\n",
    "inputs = torch.tensor(\n",
    "  [[0.43, 0.15, 0.89], # Your     (x^1)\n",
    "   [0.55, 0.87, 0.66], # journey  (x^2)\n",
    "   [0.57, 0.85, 0.64], # starts   (x^3)\n",
    "   [0.22, 0.58, 0.33], # with     (x^4)\n",
    "   [0.77, 0.25, 0.10], # one      (x^5)\n",
    "   [0.05, 0.80, 0.55]] # step     (x^6)\n",
    ")"
   ]
  },
  {
   "cell_type": "code",
   "execution_count": 2,
   "metadata": {},
   "outputs": [],
   "source": [
    "x_2=inputs[1]\n",
    "d_in=inputs.shape[1]\n",
    "d_out=2\n"
   ]
  },
  {
   "cell_type": "code",
   "execution_count": 3,
   "metadata": {},
   "outputs": [],
   "source": [
    "torch.manual_seed(123)\n",
    "w_query=torch.nn.Parameter(torch.randn(d_in,d_out),requires_grad=False)\n",
    "w_key=torch.nn.Parameter(torch.randn(d_in,d_out),requires_grad=False)\n",
    "w_value=torch.nn.Parameter(torch.randn(d_in,d_out),requires_grad=False) \n"
   ]
  },
  {
   "cell_type": "code",
   "execution_count": 4,
   "metadata": {},
   "outputs": [
    {
     "name": "stdout",
     "output_type": "stream",
     "text": [
      "Query: Parameter containing:\n",
      "tensor([[-0.1115,  0.1204],\n",
      "        [-0.3696, -0.2404],\n",
      "        [-1.1969,  0.2093]])\n"
     ]
    }
   ],
   "source": [
    "print(\"Query:\",w_query)\n"
   ]
  },
  {
   "cell_type": "markdown",
   "metadata": {},
   "source": [
    "test with the indivisual word\n"
   ]
  },
  {
   "cell_type": "code",
   "execution_count": 5,
   "metadata": {},
   "outputs": [
    {
     "name": "stdout",
     "output_type": "stream",
     "text": [
      "tensor([-1.1729, -0.0048])\n",
      "tensor([-0.1142, -0.7676])\n",
      "tensor([0.4107, 0.6274])\n"
     ]
    }
   ],
   "source": [
    "query_2=x_2 @ w_query\n",
    "key_2=x_2 @ w_key\n",
    "value_2=x_2 @ w_value\n",
    "print(query_2)\n",
    "print(key_2)\n",
    "print(value_2)"
   ]
  },
  {
   "cell_type": "markdown",
   "metadata": {},
   "source": [
    "Let's do this with the Whole Input\n"
   ]
  },
  {
   "cell_type": "code",
   "execution_count": 6,
   "metadata": {},
   "outputs": [
    {
     "name": "stdout",
     "output_type": "stream",
     "text": [
      "tensor([[-1.1686,  0.2019],\n",
      "        [-1.1729, -0.0048],\n",
      "        [-1.1438, -0.0018],\n",
      "        [-0.6339, -0.0439],\n",
      "        [-0.2979,  0.0535],\n",
      "        [-0.9596, -0.0712]])\n"
     ]
    }
   ],
   "source": [
    "query=inputs @ w_query\n",
    "keys=inputs @ w_key\n",
    "values= inputs @ w_value\n",
    "\n",
    "print(query)"
   ]
  },
  {
   "cell_type": "code",
   "execution_count": 7,
   "metadata": {},
   "outputs": [
    {
     "name": "stdout",
     "output_type": "stream",
     "text": [
      "tensor(0.1376)\n"
     ]
    }
   ],
   "source": [
    "keys_2=keys[1]\n",
    "attn_Score=query_2 @ keys_2\n",
    "print(attn_Score) "
   ]
  },
  {
   "cell_type": "code",
   "execution_count": 8,
   "metadata": {},
   "outputs": [
    {
     "name": "stdout",
     "output_type": "stream",
     "text": [
      "tensor([[ 0.0740, -0.0216,  0.0126, -0.1230,  0.6250, -0.4498],\n",
      "        [ 0.2172,  0.1376,  0.1730, -0.0491,  0.7616, -0.3809],\n",
      "        [ 0.2098,  0.1320,  0.1665, -0.0489,  0.7408, -0.3725],\n",
      "        [ 0.1458,  0.1061,  0.1254, -0.0118,  0.4384, -0.1919],\n",
      "        [ 0.0175, -0.0071,  0.0017, -0.0321,  0.1580, -0.1153],\n",
      "        [ 0.2240,  0.1642,  0.1935, -0.0161,  0.6667, -0.2888]])\n"
     ]
    }
   ],
   "source": [
    "\n",
    "attn_Score=query @ keys.T\n",
    "print(attn_Score) "
   ]
  },
  {
   "cell_type": "code",
   "execution_count": 9,
   "metadata": {},
   "outputs": [
    {
     "name": "stdout",
     "output_type": "stream",
     "text": [
      "tensor([[0.1667, 0.1515, 0.1568, 0.1369, 0.2893, 0.0988],\n",
      "        [0.1689, 0.1560, 0.1616, 0.1294, 0.2912, 0.0929],\n",
      "        [0.1691, 0.1564, 0.1619, 0.1305, 0.2876, 0.0945],\n",
      "        [0.1710, 0.1643, 0.1675, 0.1461, 0.2291, 0.1220],\n",
      "        [0.1684, 0.1643, 0.1658, 0.1603, 0.1938, 0.1475],\n",
      "        [0.1708, 0.1609, 0.1657, 0.1344, 0.2659, 0.1023]])\n"
     ]
    }
   ],
   "source": [
    "normalized_attn_Score=torch.nn.functional.softmax(attn_Score,dim=1)\n",
    "print(normalized_attn_Score)"
   ]
  },
  {
   "cell_type": "code",
   "execution_count": 10,
   "metadata": {},
   "outputs": [
    {
     "name": "stdout",
     "output_type": "stream",
     "text": [
      "tensor([[0.1684, 0.1644, 0.1658, 0.1603, 0.1933, 0.1477],\n",
      "        [0.1692, 0.1658, 0.1673, 0.1583, 0.1938, 0.1457],\n",
      "        [0.1691, 0.1658, 0.1673, 0.1585, 0.1931, 0.1462],\n",
      "        [0.1683, 0.1666, 0.1675, 0.1618, 0.1811, 0.1547],\n",
      "        [0.1672, 0.1662, 0.1665, 0.1651, 0.1732, 0.1617],\n",
      "        [0.1690, 0.1665, 0.1677, 0.1592, 0.1888, 0.1487]])\n"
     ]
    }
   ],
   "source": [
    "d_k=keys.shape[-1]\n",
    "attn_weights_2=torch.nn.functional.softmax(attn_Score/d_k**2,dim=1)\n",
    "print(attn_weights_2)"
   ]
  },
  {
   "cell_type": "markdown",
   "metadata": {},
   "source": [
    "Calculating the Context Vector"
   ]
  },
  {
   "cell_type": "code",
   "execution_count": 11,
   "metadata": {},
   "outputs": [
    {
     "name": "stdout",
     "output_type": "stream",
     "text": [
      "tensor([[0.2861, 0.3929],\n",
      "        [0.2865, 0.3933],\n",
      "        [0.2865, 0.3931],\n",
      "        [0.2867, 0.3901],\n",
      "        [0.2867, 0.3880],\n",
      "        [0.2867, 0.3921]])\n"
     ]
    }
   ],
   "source": [
    "context_vector=attn_weights_2 @ values\n",
    "print(context_vector)"
   ]
  },
  {
   "cell_type": "markdown",
   "metadata": {},
   "source": [
    "We will Create a class implementation of the Self Attention machanism with trainable weights\n"
   ]
  },
  {
   "cell_type": "code",
   "execution_count": 12,
   "metadata": {},
   "outputs": [],
   "source": [
    "import torch.nn as nn\n",
    "\n",
    "class SelfAttensionMachanism_v1(nn.Module):\n",
    "    def __init__(self,d_in,d_out):\n",
    "        super().__init__()\n",
    "        self.w_query=nn.Parameter(torch.randn(d_in,d_out))\n",
    "        self.w_key=nn.Parameter(torch.randn(d_in,d_out))\n",
    "        self.w_value=nn.Parameter(torch.randn(d_in,d_out))\n",
    "\n",
    "\n",
    "    def forward(self,inputs):\n",
    "        keys=inputs @ self.w_key\n",
    "        query=inputs @ self.w_query\n",
    "        values=inputs @ self.w_value\n",
    "\n",
    "        attn_score=query @ keys.T\n",
    "        attn_weights=torch.nn.functional.softmax(attn_score/keys.shape[-1]**0.5,dim=-1)\n",
    "\n",
    "        context_vector=attn_weights @ values\n",
    "        return context_vector    "
   ]
  },
  {
   "cell_type": "code",
   "execution_count": 13,
   "metadata": {},
   "outputs": [
    {
     "name": "stdout",
     "output_type": "stream",
     "text": [
      "tensor([[0.1278, 0.2577],\n",
      "        [0.1365, 0.2556],\n",
      "        [0.1364, 0.2556],\n",
      "        [0.1294, 0.2624],\n",
      "        [0.1295, 0.2595],\n",
      "        [0.1310, 0.2618]], grad_fn=<MmBackward0>)\n"
     ]
    }
   ],
   "source": [
    "Am_v1=SelfAttensionMachanism_v1(d_in,d_out)\n",
    "context_vector=Am_v1(inputs)\n",
    "print(context_vector)"
   ]
  },
  {
   "cell_type": "code",
   "execution_count": 14,
   "metadata": {},
   "outputs": [],
   "source": [
    "import torch.nn as nn\n",
    "\n",
    "class SelfAttensionMachanism_v2(nn.Module):\n",
    "    def __init__(self,d_in,d_out,qkv_bias=False):\n",
    "        super().__init__()\n",
    "        self.w_query=nn.Linear(d_in,d_out,bias=qkv_bias)\n",
    "        self.w_key=nn.Linear(d_in,d_out,bias=qkv_bias)\n",
    "        self.w_value=nn.Linear(d_in,d_out, bias=qkv_bias)\n",
    "\n",
    "\n",
    "    def forward(self,inputs):\n",
    "        keys=self.w_key(inputs)\n",
    "        query=self.w_query(inputs)\n",
    "        values=self.w_value(inputs)\n",
    "\n",
    "        attn_score=query @ keys.T\n",
    "        attn_weights=torch.nn.functional.softmax(attn_score/keys.shape[-1]**0.5,dim=-1)\n",
    "\n",
    "        context_vector=attn_weights @ values\n",
    "        return context_vector    "
   ]
  },
  {
   "cell_type": "code",
   "execution_count": 15,
   "metadata": {},
   "outputs": [
    {
     "name": "stdout",
     "output_type": "stream",
     "text": [
      "tensor([[-0.4496,  0.4982],\n",
      "        [-0.4462,  0.4957],\n",
      "        [-0.4462,  0.4956],\n",
      "        [-0.4478,  0.4971],\n",
      "        [-0.4468,  0.4963],\n",
      "        [-0.4479,  0.4971]], grad_fn=<MmBackward0>)\n"
     ]
    }
   ],
   "source": [
    "Am_v2=SelfAttensionMachanism_v2(d_in,d_out)\n",
    "context_vector=Am_v2(inputs)\n",
    "print(context_vector)"
   ]
  },
  {
   "cell_type": "markdown",
   "metadata": {},
   "source": [
    "Causal Self Attention Machanism\n"
   ]
  },
  {
   "cell_type": "code",
   "execution_count": 16,
   "metadata": {},
   "outputs": [
    {
     "name": "stdout",
     "output_type": "stream",
     "text": [
      "tensor([[0.1708, 0.1646, 0.1647, 0.1665, 0.1681, 0.1654],\n",
      "        [0.1723, 0.1579, 0.1587, 0.1690, 0.1818, 0.1603],\n",
      "        [0.1722, 0.1579, 0.1587, 0.1690, 0.1819, 0.1603],\n",
      "        [0.1696, 0.1616, 0.1621, 0.1681, 0.1755, 0.1630],\n",
      "        [0.1703, 0.1596, 0.1603, 0.1688, 0.1796, 0.1615],\n",
      "        [0.1701, 0.1617, 0.1622, 0.1680, 0.1750, 0.1631]],\n",
      "       grad_fn=<SoftmaxBackward0>)\n"
     ]
    }
   ],
   "source": [
    "queries=Am_v2.w_query(inputs)\n",
    "key=Am_v2.w_key(inputs)\n",
    "\n",
    "attention_score=queries @ key.T\n",
    "\n",
    "attention_weight=torch.nn.functional.softmax(attention_score/key.shape[-1]**0.5,dim=-1)\n",
    "print(attention_weight)"
   ]
  },
  {
   "cell_type": "code",
   "execution_count": 17,
   "metadata": {},
   "outputs": [
    {
     "name": "stdout",
     "output_type": "stream",
     "text": [
      "tensor([[1., 0., 0., 0., 0., 0.],\n",
      "        [1., 1., 0., 0., 0., 0.],\n",
      "        [1., 1., 1., 0., 0., 0.],\n",
      "        [1., 1., 1., 1., 0., 0.],\n",
      "        [1., 1., 1., 1., 1., 0.],\n",
      "        [1., 1., 1., 1., 1., 1.]])\n"
     ]
    }
   ],
   "source": [
    "context_length=attention_weight.shape[0]\n",
    "simple_mask=torch.tril(torch.ones(context_length,context_length))\n",
    "print(simple_mask)"
   ]
  },
  {
   "cell_type": "code",
   "execution_count": 18,
   "metadata": {},
   "outputs": [
    {
     "name": "stdout",
     "output_type": "stream",
     "text": [
      "tensor([[0.1708, 0.0000, 0.0000, 0.0000, 0.0000, 0.0000],\n",
      "        [0.1723, 0.1579, 0.0000, 0.0000, 0.0000, 0.0000],\n",
      "        [0.1722, 0.1579, 0.1587, 0.0000, 0.0000, 0.0000],\n",
      "        [0.1696, 0.1616, 0.1621, 0.1681, 0.0000, 0.0000],\n",
      "        [0.1703, 0.1596, 0.1603, 0.1688, 0.1796, 0.0000],\n",
      "        [0.1701, 0.1617, 0.1622, 0.1680, 0.1750, 0.1631]],\n",
      "       grad_fn=<MulBackward0>)\n"
     ]
    }
   ],
   "source": [
    "masked_simple = attention_weight * simple_mask\n",
    "print(masked_simple)"
   ]
  },
  {
   "cell_type": "code",
   "execution_count": 19,
   "metadata": {},
   "outputs": [
    {
     "name": "stdout",
     "output_type": "stream",
     "text": [
      "tensor([[1.0000, 0.0000, 0.0000, 0.0000, 0.0000, 0.0000],\n",
      "        [0.5217, 0.4783, 0.0000, 0.0000, 0.0000, 0.0000],\n",
      "        [0.3524, 0.3230, 0.3246, 0.0000, 0.0000, 0.0000],\n",
      "        [0.2564, 0.2443, 0.2450, 0.2542, 0.0000, 0.0000],\n",
      "        [0.2031, 0.1904, 0.1911, 0.2013, 0.2141, 0.0000],\n",
      "        [0.1701, 0.1617, 0.1622, 0.1680, 0.1750, 0.1631]],\n",
      "       grad_fn=<DivBackward0>)\n"
     ]
    }
   ],
   "source": [
    "rows_sum=masked_simple.sum(dim=1,keepdim=True)\n",
    "masked_attention_weights=masked_simple/rows_sum\n",
    "print(masked_attention_weights)\n"
   ]
  },
  {
   "cell_type": "code",
   "execution_count": 20,
   "metadata": {},
   "outputs": [
    {
     "name": "stdout",
     "output_type": "stream",
     "text": [
      "tensor([[0.1708,   -inf,   -inf,   -inf,   -inf,   -inf],\n",
      "        [0.1723, 0.1579,   -inf,   -inf,   -inf,   -inf],\n",
      "        [0.1722, 0.1579, 0.1587,   -inf,   -inf,   -inf],\n",
      "        [0.1696, 0.1616, 0.1621, 0.1681,   -inf,   -inf],\n",
      "        [0.1703, 0.1596, 0.1603, 0.1688, 0.1796,   -inf],\n",
      "        [0.1701, 0.1617, 0.1622, 0.1680, 0.1750, 0.1631]],\n",
      "       grad_fn=<MaskedFillBackward0>)\n"
     ]
    }
   ],
   "source": [
    "mask=torch.triu(torch.ones(context_length,context_length),diagonal=1)\n",
    "masked = attention_weight.masked_fill(mask.bool(),-torch.inf)\n",
    "print(masked)"
   ]
  },
  {
   "cell_type": "code",
   "execution_count": 21,
   "metadata": {},
   "outputs": [
    {
     "name": "stdout",
     "output_type": "stream",
     "text": [
      "tensor([[1.0000, 0.0000, 0.0000, 0.0000, 0.0000, 0.0000],\n",
      "        [0.5025, 0.4975, 0.0000, 0.0000, 0.0000, 0.0000],\n",
      "        [0.3355, 0.3321, 0.3323, 0.0000, 0.0000, 0.0000],\n",
      "        [0.2508, 0.2493, 0.2494, 0.2505, 0.0000, 0.0000],\n",
      "        [0.2004, 0.1989, 0.1989, 0.2002, 0.2017, 0.0000],\n",
      "        [0.1671, 0.1661, 0.1661, 0.1668, 0.1676, 0.1662]],\n",
      "       grad_fn=<SoftmaxBackward0>)\n"
     ]
    }
   ],
   "source": [
    "attention_weight=torch.nn.functional.softmax(masked/key.shape[-1]**0.5,dim=-1)\n",
    "print(attention_weight)"
   ]
  },
  {
   "cell_type": "code",
   "execution_count": 22,
   "metadata": {},
   "outputs": [
    {
     "name": "stdout",
     "output_type": "stream",
     "text": [
      "tensor([[2., 2., 2., 2., 2., 2.],\n",
      "        [0., 2., 0., 0., 0., 0.],\n",
      "        [0., 0., 2., 0., 2., 0.],\n",
      "        [2., 2., 0., 0., 0., 2.],\n",
      "        [2., 0., 0., 0., 0., 2.],\n",
      "        [0., 2., 0., 0., 0., 0.]])\n"
     ]
    }
   ],
   "source": [
    "torch.manual_seed(123)\n",
    "dropout=torch.nn.Dropout(p=0.5)\n",
    "example=torch.ones(6,6)\n",
    "print(dropout(example))"
   ]
  },
  {
   "cell_type": "code",
   "execution_count": 23,
   "metadata": {},
   "outputs": [
    {
     "name": "stdout",
     "output_type": "stream",
     "text": [
      "tensor([[2.0000, 0.0000, 0.0000, 0.0000, 0.0000, 0.0000],\n",
      "        [0.0000, 0.0000, 0.0000, 0.0000, 0.0000, 0.0000],\n",
      "        [0.0000, 0.0000, 0.6647, 0.0000, 0.0000, 0.0000],\n",
      "        [0.0000, 0.4987, 0.0000, 0.5010, 0.0000, 0.0000],\n",
      "        [0.0000, 0.3977, 0.3979, 0.4003, 0.4034, 0.0000],\n",
      "        [0.3341, 0.3322, 0.0000, 0.0000, 0.3353, 0.3325]],\n",
      "       grad_fn=<MulBackward0>)\n"
     ]
    }
   ],
   "source": [
    "\n",
    "print(dropout(attention_weight))"
   ]
  },
  {
   "cell_type": "code",
   "execution_count": 24,
   "metadata": {},
   "outputs": [],
   "source": [
    "import torch.nn as nn\n",
    "class CausalSelfAttention(nn.Module):\n",
    "    def __init__(self,d_in,d_out,qkv_bias=False):\n",
    "        super().__init__()\n",
    "        self.w_query=nn.Linear(d_in,d_out,bias=qkv_bias)\n",
    "        self.w_key=nn.Linear(d_in,d_out,bias=qkv_bias)\n",
    "        self.w_value=nn.Linear(d_in,d_out,bias=qkv_bias)\n",
    "        self.dropout=torch.nn.Dropout(p=0.1)\n",
    "\n",
    "    def forward(self,inputs):\n",
    "        keys=self.w_key(inputs)\n",
    "        query=self.w_query(inputs)\n",
    "        values=self.w_value(inputs)\n",
    "\n",
    "        attention_score=query @ keys.T\n",
    "        attention_weight=torch.nn.functional.softmax(attention_score/key.shape[-1]**0.5,dim=-1)\n",
    "        context_length=attention_weight.shape[0]\n",
    "        simple_mask=torch.tril(torch.ones(context_length,context_length))\n",
    "        masked_simple = attention_weight * simple_mask\n",
    "        rows_sum=masked_simple.sum(dim=1,keepdim=True)\n",
    "        masked_attention_weights=masked_simple/rows_sum\n",
    "        masked_attention_weights*=values\n",
    "        mask=torch.triu(torch.ones(context_length,context_length),diagonal=1)\n",
    "        masked = attention_weight.masked_fill(mask.bool(),-torch.inf)\n",
    "        attention_weight=torch.nn.functional.softmax(masked/key.shape[-1]**0.5,dim=-1)\n",
    "        \n",
    "        \n",
    "\n",
    "        return self.dropout(attention_weight)"
   ]
  },
  {
   "cell_type": "code",
   "execution_count": 25,
   "metadata": {},
   "outputs": [
    {
     "name": "stdout",
     "output_type": "stream",
     "text": [
      "tensor([[1.1111, 0.0000, 0.0000, 0.0000, 0.0000, 0.0000],\n",
      "        [0.5600, 0.5511, 0.0000, 0.0000, 0.0000, 0.0000],\n",
      "        [0.3742, 0.3682, 0.3687, 0.0000, 0.0000, 0.0000],\n",
      "        [0.2781, 0.2762, 0.2764, 0.2805, 0.0000, 0.0000],\n",
      "        [0.2229, 0.2194, 0.2196, 0.2229, 0.0000, 0.0000],\n",
      "        [0.0000, 0.1832, 0.1833, 0.1870, 0.1882, 0.1852]],\n",
      "       grad_fn=<MulBackward0>)\n"
     ]
    }
   ],
   "source": [
    "Am_v2=CausalSelfAttention(3,6)\n",
    "context_vector=Am_v2(inputs)\n",
    "print(context_vector)"
   ]
  },
  {
   "cell_type": "code",
   "execution_count": 26,
   "metadata": {},
   "outputs": [
    {
     "name": "stdout",
     "output_type": "stream",
     "text": [
      "torch.Size([8, 6, 3])\n"
     ]
    }
   ],
   "source": [
    "batch=torch.stack((inputs,inputs,inputs,inputs,inputs,inputs,inputs,inputs),dim=0)\n",
    "print(batch.shape)"
   ]
  },
  {
   "cell_type": "markdown",
   "metadata": {},
   "source": [
    "Causal Self Attention with the batch sizes"
   ]
  },
  {
   "cell_type": "code",
   "execution_count": 27,
   "metadata": {},
   "outputs": [],
   "source": [
    "import torch.nn as nn\n",
    "class CausalSelfAttention_v2(nn.Module):\n",
    "    def __init__(self,d_in,d_out,context_length,dropout,qkv_bias=False):\n",
    "        super().__init__()\n",
    "        self.w_query=nn.Linear(d_in,d_out,bias=qkv_bias)\n",
    "        self.w_key=nn.Linear(d_in,d_out,bias=qkv_bias)\n",
    "        self.w_value=nn.Linear(d_in,d_out,bias=qkv_bias)\n",
    "        self.dropout=torch.nn.Dropout(p=dropout)\n",
    "        self.register_buffer(\"mask\",torch.triu(torch.ones(context_length,context_length),diagonal=1))\n",
    "    \n",
    "    def forward(self,inputs):\n",
    "        b,num_tokens,d_in=inputs.shape      \n",
    "        keys=self.w_key(inputs)\n",
    "        query=self.w_query(inputs)\n",
    "        values=self.w_value(inputs)\n",
    "\n",
    "        attention_score=query @ keys.transpose(1,2)\n",
    "        attn_Score.masked_fill_(self.mask.bool()[:num_tokens,:num_tokens].bool(),-torch.inf)\n",
    "        \n",
    "        attention_weight=torch.nn.functional.softmax(attention_score/key.shape[-1]**0.5,dim=-1)\n",
    "        attention_weight=self.dropout(attention_weight)\n",
    "        context_vector=attention_weight @values\n",
    "        return context_vector"
   ]
  },
  {
   "cell_type": "code",
   "execution_count": 28,
   "metadata": {},
   "outputs": [
    {
     "name": "stdout",
     "output_type": "stream",
     "text": [
      "tensor([[[-0.5337, -0.1051],\n",
      "         [-0.5323, -0.1080],\n",
      "         [-0.5323, -0.1079],\n",
      "         [-0.5297, -0.1076],\n",
      "         [-0.5311, -0.1066],\n",
      "         [-0.5299, -0.1081]],\n",
      "\n",
      "        [[-0.5337, -0.1051],\n",
      "         [-0.5323, -0.1080],\n",
      "         [-0.5323, -0.1079],\n",
      "         [-0.5297, -0.1076],\n",
      "         [-0.5311, -0.1066],\n",
      "         [-0.5299, -0.1081]],\n",
      "\n",
      "        [[-0.5337, -0.1051],\n",
      "         [-0.5323, -0.1080],\n",
      "         [-0.5323, -0.1079],\n",
      "         [-0.5297, -0.1076],\n",
      "         [-0.5311, -0.1066],\n",
      "         [-0.5299, -0.1081]],\n",
      "\n",
      "        [[-0.5337, -0.1051],\n",
      "         [-0.5323, -0.1080],\n",
      "         [-0.5323, -0.1079],\n",
      "         [-0.5297, -0.1076],\n",
      "         [-0.5311, -0.1066],\n",
      "         [-0.5299, -0.1081]],\n",
      "\n",
      "        [[-0.5337, -0.1051],\n",
      "         [-0.5323, -0.1080],\n",
      "         [-0.5323, -0.1079],\n",
      "         [-0.5297, -0.1076],\n",
      "         [-0.5311, -0.1066],\n",
      "         [-0.5299, -0.1081]],\n",
      "\n",
      "        [[-0.5337, -0.1051],\n",
      "         [-0.5323, -0.1080],\n",
      "         [-0.5323, -0.1079],\n",
      "         [-0.5297, -0.1076],\n",
      "         [-0.5311, -0.1066],\n",
      "         [-0.5299, -0.1081]],\n",
      "\n",
      "        [[-0.5337, -0.1051],\n",
      "         [-0.5323, -0.1080],\n",
      "         [-0.5323, -0.1079],\n",
      "         [-0.5297, -0.1076],\n",
      "         [-0.5311, -0.1066],\n",
      "         [-0.5299, -0.1081]],\n",
      "\n",
      "        [[-0.5337, -0.1051],\n",
      "         [-0.5323, -0.1080],\n",
      "         [-0.5323, -0.1079],\n",
      "         [-0.5297, -0.1076],\n",
      "         [-0.5311, -0.1066],\n",
      "         [-0.5299, -0.1081]]], grad_fn=<UnsafeViewBackward0>)\n"
     ]
    }
   ],
   "source": [
    "torch.manual_seed(123)\n",
    "context_length=batch.shape[1]\n",
    "ca=CausalSelfAttention_v2(d_in,d_out,context_length,0.0)\n",
    "context_vector=ca(batch)\n",
    "print(context_vector)"
   ]
  },
  {
   "cell_type": "markdown",
   "metadata": {},
   "source": [
    "Multihead attention Machanism\n"
   ]
  },
  {
   "cell_type": "code",
   "execution_count": 29,
   "metadata": {},
   "outputs": [],
   "source": [
    "class MultiheadAttensionMachanism(nn.Module):\n",
    "    def __init__(self,d_in,d_out,context_length,dropout,num_heads,qkv_bais=False):\n",
    "        super().__init__()\n",
    "        self.heads=nn.ModuleList([\n",
    "             CausalSelfAttention_v2(d_in,d_out,context_length,dropout,qkv_bais )\n",
    "             for _ in range(num_heads)\n",
    "        ])\n",
    "\n",
    "    def forward(self,x ):\n",
    "        return torch.cat([head(x) for head in self.heads],dim=-1)    "
   ]
  },
  {
   "cell_type": "code",
   "execution_count": 30,
   "metadata": {},
   "outputs": [
    {
     "name": "stdout",
     "output_type": "stream",
     "text": [
      "tensor([[[-0.5191, -0.0904,  0.5650,  0.3897,  0.4649,  0.2185],\n",
      "         [-0.5915, -0.1200,  0.4928,  0.3737,  0.5907,  0.2765],\n",
      "         [-0.5915, -0.1199,  0.4938,  0.3240,  0.5176,  0.2352],\n",
      "         [-0.3656, -0.0533,  0.5638,  0.3856,  0.5933,  0.2779],\n",
      "         [-0.4538, -0.0808,  0.4739,  0.3267,  0.4188,  0.2054],\n",
      "         [-0.5888, -0.1201,  0.5641,  0.3882,  0.5037,  0.2243]],\n",
      "\n",
      "        [[-0.5930, -0.1168,  0.4707,  0.3309,  0.5913,  0.2768],\n",
      "         [-0.5915, -0.1200,  0.5649,  0.3898,  0.3950,  0.1895],\n",
      "         [-0.5233, -0.0920,  0.5649,  0.3896,  0.5907,  0.2765],\n",
      "         [-0.5886, -0.1195,  0.5638,  0.3856,  0.5933,  0.2779],\n",
      "         [-0.4538, -0.0808,  0.3526,  0.2706,  0.5923,  0.2775],\n",
      "         [-0.5888, -0.1201,  0.5641,  0.3882,  0.4634,  0.2187]],\n",
      "\n",
      "        [[-0.5930, -0.1168,  0.5650,  0.3897,  0.4988,  0.2215],\n",
      "         [-0.5915, -0.1200,  0.5649,  0.3898,  0.4654,  0.2187],\n",
      "         [-0.5233, -0.0920,  0.4708,  0.3309,  0.5907,  0.2765],\n",
      "         [-0.4182, -0.1309,  0.5638,  0.3856,  0.5933,  0.2779],\n",
      "         [-0.5901, -0.1184,  0.4797,  0.3641,  0.5923,  0.2775],\n",
      "         [-0.5888, -0.1201,  0.5641,  0.3882,  0.3924,  0.1847]],\n",
      "\n",
      "        [[-0.5930, -0.1168,  0.5650,  0.3897,  0.4169,  0.2046],\n",
      "         [-0.5915, -0.1200,  0.4345,  0.2944,  0.5907,  0.2765],\n",
      "         [-0.5915, -0.1199,  0.3637,  0.2283,  0.4654,  0.2187],\n",
      "         [-0.5064, -0.1598,  0.5638,  0.3856,  0.5221,  0.2446],\n",
      "         [-0.5901, -0.1184,  0.5640,  0.3829,  0.4933,  0.2475],\n",
      "         [-0.5888, -0.1201,  0.5641,  0.3882,  0.5930,  0.2777]],\n",
      "\n",
      "        [[-0.4536, -0.0782,  0.5650,  0.3897,  0.5913,  0.2768],\n",
      "         [-0.4275, -0.0639,  0.5649,  0.3898,  0.3946,  0.1856],\n",
      "         [-0.5915, -0.1199,  0.5649,  0.3896,  0.5907,  0.2765],\n",
      "         [-0.5886, -0.1195,  0.4847,  0.3680,  0.4635,  0.2180],\n",
      "         [-0.4538, -0.0808,  0.4369,  0.2899,  0.3359,  0.1599],\n",
      "         [-0.5888, -0.1201,  0.5641,  0.3882,  0.5037,  0.2243]],\n",
      "\n",
      "        [[-0.3874, -0.0515,  0.3316,  0.2567,  0.5913,  0.2768],\n",
      "         [-0.5915, -0.1200,  0.5649,  0.3898,  0.5907,  0.2765],\n",
      "         [-0.5915, -0.1199,  0.4346,  0.2943,  0.5907,  0.2765],\n",
      "         [-0.5187, -0.0910,  0.5638,  0.3856,  0.5933,  0.2779],\n",
      "         [-0.5901, -0.1184,  0.5640,  0.3829,  0.4188,  0.2054],\n",
      "         [-0.5888, -0.1201,  0.5641,  0.3882,  0.5037,  0.2243]],\n",
      "\n",
      "        [[-0.5930, -0.1168,  0.5650,  0.3897,  0.5913,  0.2768],\n",
      "         [-0.5915, -0.1200,  0.5649,  0.3898,  0.3918,  0.1779],\n",
      "         [-0.5915, -0.1199,  0.4346,  0.2943,  0.5907,  0.2765],\n",
      "         [-0.5886, -0.1195,  0.4925,  0.3198,  0.5221,  0.2446],\n",
      "         [-0.3849, -0.0529,  0.5640,  0.3829,  0.5214,  0.2443],\n",
      "         [-0.5888, -0.1201,  0.3633,  0.2271,  0.4634,  0.2187]],\n",
      "\n",
      "        [[-0.5191, -0.0904,  0.5650,  0.3897,  0.4988,  0.2215],\n",
      "         [-0.5232, -0.0921,  0.4348,  0.2941,  0.5907,  0.2765],\n",
      "         [-0.5915, -0.1199,  0.5649,  0.3896,  0.5907,  0.2765],\n",
      "         [-0.5886, -0.1195,  0.5638,  0.3856,  0.5933,  0.2779],\n",
      "         [-0.4296, -0.1322,  0.4369,  0.2899,  0.5923,  0.2775],\n",
      "         [-0.3832, -0.0542,  0.5641,  0.3882,  0.4056,  0.1946]]],\n",
      "       grad_fn=<CatBackward0>)\n"
     ]
    }
   ],
   "source": [
    "torch.manual_seed(123)\n",
    "m1=MultiheadAttensionMachanism(d_in,d_out,context_length,0.1,3,False)\n",
    "context_vector=m1(batch)\n",
    "print(context_vector)"
   ]
  },
  {
   "cell_type": "markdown",
   "metadata": {},
   "source": [
    "Implementing Multihead Attention with Weight Split"
   ]
  },
  {
   "cell_type": "code",
   "execution_count": 31,
   "metadata": {},
   "outputs": [],
   "source": [
    "class MultiheadAttensionMachanism_v2(nn.Module):\n",
    "    def __init__(self,d_in,d_out,context_length,dropout,num_heads,qkv_bais=False):\n",
    "        super().__init__()\n",
    "        assert( d_out%num_heads==0),\\\n",
    "            \"d_out must be Divisible by numeber of Heads\"\n",
    "        self.d_out=d_out\n",
    "        self.d_in=d_in\n",
    "        self.num_head=num_heads\n",
    "        self.head_dim=d_out//num_heads\n",
    "        self.w_query=nn.Linear(d_in,d_out,bias=qkv_bais)\n",
    "        self.w_key=nn.Linear(d_in,d_out,bias=qkv_bais)\n",
    "        self.w_value=nn.Linear(d_in,d_out,bias=qkv_bais)\n",
    "        self.out_proj=nn.Linear(d_out,d_out)\n",
    "        self.dropout=nn.Dropout(dropout)\n",
    "\n",
    "        self.register_buffer(\"mask\",torch.triu(torch.ones(context_length,context_length),diagonal=1))\n",
    "\n",
    "\n",
    "    def forward(self,x):\n",
    "        b,num_tokens,d_in=x.shape\n",
    "\n",
    "        keys=self.w_key(x)\n",
    "        queries=self.w_query(x)\n",
    "        value=self.w_value(x)\n",
    "\n",
    "        keys=keys.view(b,num_tokens,self.num_head,self.head_dim)\n",
    "        queries=queries.view(b,num_tokens,self.num_head,self.head_dim)\n",
    "        values=value.view(b,num_tokens,self.num_head,self.head_dim)\n",
    "\n",
    "        keys=keys.transpose(1,2)\n",
    "        queries=queries.transpose(1,2)\n",
    "        values=values.transpose(1,2)\n",
    "\n",
    "        attn_scores=queries @ keys.transpose(2,3)\n",
    "        \n",
    "        mask_bool=self.mask.bool()[:num_tokens,:num_tokens]\n",
    "        attn_scores=masked_fill_(mask_bool,-torch.inf)\n",
    "\n",
    "        attn_weights=torch.softmax(attn_scores/key.shape[-1]**0.5,dim=-1)\n",
    "        attn_weights=self.dropout(attn_weights)\n",
    "\n",
    "        context_vec=(attn_weights @ value).transpose(1,2)\n",
    "\n",
    "        context_vec=context_vec.contiguous().view(b,num_tokens,self.d_out)\n",
    "        context_vec=self.out_proj(context_vec)\n",
    "\n",
    "        return context_vec"
   ]
  },
  {
   "cell_type": "code",
   "execution_count": 32,
   "metadata": {},
   "outputs": [],
   "source": [
    "class MultiHeadAttention(nn.Module):\n",
    "    def __init__(self, d_in, d_out, context_length, dropout, num_heads, qkv_bias=False):\n",
    "        super().__init__()\n",
    "        assert (d_out % num_heads == 0), \\\n",
    "            \"d_out must be divisible by num_heads\"\n",
    "\n",
    "        self.d_out = d_out\n",
    "        self.num_heads = num_heads\n",
    "        self.head_dim = d_out // num_heads # Reduce the projection dim to match desired output dim\n",
    "\n",
    "        self.W_query = nn.Linear(d_in, d_out, bias=qkv_bias)\n",
    "        self.W_key = nn.Linear(d_in, d_out, bias=qkv_bias)\n",
    "        self.W_value = nn.Linear(d_in, d_out, bias=qkv_bias)\n",
    "        self.out_proj = nn.Linear(d_out, d_out)  # Linear layer to combine head outputs\n",
    "        self.dropout = nn.Dropout(dropout)\n",
    "        self.register_buffer(\n",
    "            \"mask\",\n",
    "            torch.triu(torch.ones(context_length, context_length),\n",
    "                       diagonal=1)\n",
    "        )\n",
    "\n",
    "    def forward(self, x):\n",
    "        b, num_tokens, d_in = x.shape\n",
    "\n",
    "        keys = self.W_key(x) # Shape: (b, num_tokens, d_out)\n",
    "        queries = self.W_query(x)\n",
    "        values = self.W_value(x)\n",
    "\n",
    "        # We implicitly split the matrix by adding a `num_heads` dimension\n",
    "        # Unroll last dim: (b, num_tokens, d_out) -> (b, num_tokens, num_heads, head_dim)\n",
    "        keys = keys.view(b, num_tokens, self.num_heads, self.head_dim) \n",
    "        values = values.view(b, num_tokens, self.num_heads, self.head_dim)\n",
    "        queries = queries.view(b, num_tokens, self.num_heads, self.head_dim)\n",
    "\n",
    "        # Transpose: (b, num_tokens, num_heads, head_dim) -> (b, num_heads, num_tokens, head_dim)\n",
    "        keys = keys.transpose(1, 2)\n",
    "        queries = queries.transpose(1, 2)\n",
    "        values = values.transpose(1, 2)\n",
    "\n",
    "        # Compute scaled dot-product attention (aka self-attention) with a causal mask\n",
    "        attn_scores = queries @ keys.transpose(2, 3)  # Dot product for each head\n",
    "\n",
    "        # Original mask truncated to the number of tokens and converted to boolean\n",
    "        mask_bool = self.mask.bool()[:num_tokens, :num_tokens]\n",
    "\n",
    "        # Use the mask to fill attention scores\n",
    "        attn_scores.masked_fill_(mask_bool, -torch.inf)\n",
    "        \n",
    "        attn_weights = torch.softmax(attn_scores / keys.shape[-1]**0.5, dim=-1)\n",
    "        attn_weights = self.dropout(attn_weights)\n",
    "\n",
    "        # Shape: (b, num_tokens, num_heads, head_dim)\n",
    "        context_vec = (attn_weights @ values).transpose(1, 2) \n",
    "        \n",
    "        # Combine heads, where self.d_out = self.num_heads * self.head_dim\n",
    "        context_vec = context_vec.contiguous().view(b, num_tokens, self.d_out)\n",
    "        context_vec = self.out_proj(context_vec) # optional projection\n",
    "\n",
    "        return context_vec"
   ]
  },
  {
   "cell_type": "code",
   "execution_count": 33,
   "metadata": {},
   "outputs": [
    {
     "name": "stdout",
     "output_type": "stream",
     "text": [
      "torch.Size([2, 3, 6])\n",
      "tensor([[[ 0.1569, -0.0873,  0.0210,  0.0215, -0.3243, -0.2518],\n",
      "         [ 0.1117, -0.0547,  0.0406, -0.0213, -0.3251, -0.2993],\n",
      "         [ 0.1196, -0.0491,  0.0318, -0.0635, -0.2788, -0.2578]],\n",
      "\n",
      "        [[ 0.1569, -0.0873,  0.0210,  0.0215, -0.3243, -0.2518],\n",
      "         [ 0.1117, -0.0547,  0.0406, -0.0213, -0.3251, -0.2993],\n",
      "         [ 0.1196, -0.0491,  0.0318, -0.0635, -0.2788, -0.2578]]],\n",
      "       grad_fn=<ViewBackward0>)\n",
      "context_vecs.shape: torch.Size([2, 3, 6])\n"
     ]
    }
   ],
   "source": [
    "torch.manual_seed(123)\n",
    "\n",
    "# Define the tensor with 3 rows and 6 columns\n",
    "inputs = torch.tensor(\n",
    "    [[0.43, 0.15, 0.89, 0.55, 0.87, 0.66],  # Row 1\n",
    "     [0.57, 0.85, 0.64, 0.22, 0.58, 0.33],  # Row 2\n",
    "     [0.77, 0.25, 0.10, 0.05, 0.80, 0.55]]  # Row 3\n",
    ")\n",
    "\n",
    "batch = torch.stack((inputs, inputs), dim=0)\n",
    "print(batch.shape) \n",
    "\n",
    "batch_size, context_length, d_in = batch.shape\n",
    "d_out = 6\n",
    "mha = MultiHeadAttention(d_in, d_out, context_length, 0.0, num_heads=2)\n",
    "context_vecs = mha(batch)\n",
    "print(context_vecs)\n",
    "print(\"context_vecs.shape:\", context_vecs.shape)"
   ]
  },
  {
   "cell_type": "code",
   "execution_count": 34,
   "metadata": {},
   "outputs": [],
   "source": [
    "class MultiheadAttensionMachanism_v2(nn.Module):\n",
    "    def __init__(self,d_in,d_out,context_length,dropout,num_heads,qkv_bais=False):\n",
    "        super().__init__()\n",
    "        assert( d_out%num_heads==0),\\\n",
    "            \"d_out must be Divisible by numeber of Heads\"\n",
    "        self.d_out=d_out\n",
    "        self.d_in=d_in\n",
    "        self.num_head=num_heads\n",
    "        self.head_dim=d_out//num_heads\n",
    "        self.w_query=nn.Linear(d_in,d_out,bias=qkv_bais)\n",
    "        self.w_key=nn.Linear(d_in,d_out,bias=qkv_bais)\n",
    "        self.w_value=nn.Linear(d_in,d_out,bias=qkv_bais)\n",
    "        self.out_proj=nn.Linear(d_out,d_out)\n",
    "        self.dropout=nn.Dropout(dropout)\n",
    "\n",
    "        self.register_buffer(\"mask\",torch.triu(torch.ones(context_length,context_length),diagonal=1))\n",
    "\n",
    "\n",
    "    def forward(self,x):\n",
    "        b,num_tokens,d_in=x.shape\n",
    "\n",
    "        keys=self.w_key(x)\n",
    "        queries=self.w_query(x)\n",
    "        value=self.w_value(x)\n",
    "\n",
    "        keys=keys.view(b,num_tokens,self.num_head,self.head_dim)\n",
    "        queries=queries.view(b,num_tokens,self.num_head,self.head_dim)\n",
    "        values=value.view(b,num_tokens,self.num_head,self.head_dim)\n",
    "\n",
    "        keys=keys.transpose(1,2)\n",
    "        queries=queries.transpose(1,2)\n",
    "        values=values.transpose(1,2)\n",
    "\n",
    "        attn_scores=queries @ keys.transpose(2,3)\n",
    "        \n",
    "        mask_bool=self.mask.bool()[:num_tokens,:num_tokens]\n",
    "        attn_scores=masked_fill_(mask_bool,-torch.inf)\n",
    "\n",
    "        attn_weights=torch.softmax(attn_scores/key.shape[-1]**0.5,dim=-1)\n",
    "        attn_weights=self.dropout(attn_weights)\n",
    "\n",
    "        context_vec=(attn_weights @ value).transpose(1,2)\n",
    "\n",
    "        context_vec=context_vec.contiguous().view(b,num_tokens,self.d_out)\n",
    "        context_vec=self.out_proj(context_vec)\n",
    "\n",
    "        return context_vec"
   ]
  },
  {
   "cell_type": "markdown",
   "metadata": {},
   "source": [
    "LLM Architecture Block\n"
   ]
  },
  {
   "cell_type": "code",
   "execution_count": 35,
   "metadata": {},
   "outputs": [],
   "source": [
    "GPT_CONFIG_124M = {\n",
    "    \"vocab_size\": 50257,    # Vocabulary size\n",
    "    \"context_length\": 1024, # Context length\n",
    "    \"emb_dim\": 768,         # Embedding dimension\n",
    "    \"n_heads\": 12,          # Number of attention heads\n",
    "    \"n_layers\": 12,         # Number of layers\n",
    "    \"drop_rate\": 0.1,       # Dropout rate\n",
    "    \"qkv_bias\": False       # Query-Key-Value bias\n",
    "}"
   ]
  },
  {
   "cell_type": "markdown",
   "metadata": {},
   "source": [
    "Dummy GPT Model"
   ]
  },
  {
   "cell_type": "code",
   "execution_count": 36,
   "metadata": {},
   "outputs": [],
   "source": [
    "import torch\n",
    "import torch.nn as nn\n",
    "\n",
    "\n",
    "class DummyGPTModel(nn.Module):\n",
    "    def __init__(self, cfg):\n",
    "        super().__init__()\n",
    "        self.tok_emb = nn.Embedding(cfg[\"vocab_size\"], cfg[\"emb_dim\"])\n",
    "        self.pos_emb = nn.Embedding(cfg[\"context_length\"], cfg[\"emb_dim\"])\n",
    "        self.drop_emb = nn.Dropout(cfg[\"drop_rate\"])\n",
    "        \n",
    "        # Use a placeholder for TransformerBlock\n",
    "        self.trf_blocks = nn.Sequential(\n",
    "            *[DummyTransformerBlock(cfg) for _ in range(cfg[\"n_layers\"])])\n",
    "        \n",
    "        # Use a placeholder for LayerNorm\n",
    "        self.final_norm = DummyLayerNorm(cfg[\"emb_dim\"])\n",
    "        self.out_head = nn.Linear(\n",
    "            cfg[\"emb_dim\"], cfg[\"vocab_size\"], bias=False\n",
    "        )\n",
    "\n",
    "    def forward(self, in_idx):\n",
    "        batch_size, seq_len = in_idx.shape\n",
    "        tok_embeds = self.tok_emb(in_idx)\n",
    "        pos_embeds = self.pos_emb(torch.arange(seq_len, device=in_idx.device))\n",
    "        x = tok_embeds + pos_embeds\n",
    "        x = self.drop_emb(x)\n",
    "        x = self.trf_blocks(x)\n",
    "        x = self.final_norm(x)\n",
    "        logits = self.out_head(x)\n",
    "        return logits\n",
    "\n",
    "\n",
    "class DummyTransformerBlock(nn.Module):\n",
    "    def __init__(self, cfg):\n",
    "        super().__init__()\n",
    "        # A simple placeholder\n",
    "\n",
    "    def forward(self, x):\n",
    "        # This block does nothing and just returns its input.\n",
    "        return x\n",
    "\n",
    "\n",
    "class DummyLayerNorm(nn.Module):\n",
    "    def __init__(self, normalized_shape, eps=1e-5):\n",
    "        super().__init__()\n",
    "        # The parameters here are just to mimic the LayerNorm interface.\n",
    "\n",
    "    def forward(self, x):\n",
    "        # This layer does nothing and just returns its input.\n",
    "        return x"
   ]
  },
  {
   "cell_type": "markdown",
   "metadata": {},
   "source": [
    "Step 1: Tokenize All the text"
   ]
  },
  {
   "cell_type": "code",
   "execution_count": 37,
   "metadata": {},
   "outputs": [
    {
     "name": "stdout",
     "output_type": "stream",
     "text": [
      "tensor([[6109, 3626, 6100,  345],\n",
      "        [6109, 1110, 6622,  257]])\n"
     ]
    }
   ],
   "source": [
    "import tiktoken\n",
    "tokenizer = tiktoken.get_encoding(\"gpt2\")\n",
    "batch = []\n",
    "txt1 = \"Every effort moves you\"\n",
    "txt2 = \"Every day holds a\"\n",
    "batch.append(torch.tensor(tokenizer.encode(txt1)))\n",
    "batch.append(torch.tensor(tokenizer.encode(txt2)))\n",
    "batch = torch.stack(batch, dim=0)\n",
    "print(batch)"
   ]
  },
  {
   "cell_type": "markdown",
   "metadata": {},
   "source": [
    "Step 2: Apply the Layer Normalization on the inputs"
   ]
  },
  {
   "cell_type": "code",
   "execution_count": 38,
   "metadata": {},
   "outputs": [
    {
     "name": "stdout",
     "output_type": "stream",
     "text": [
      "tensor([[0.2260, 0.3470, 0.0000, 0.2216, 0.0000, 0.0000],\n",
      "        [0.2133, 0.2394, 0.0000, 0.5198, 0.3297, 0.0000]],\n",
      "       grad_fn=<ReluBackward0>)\n"
     ]
    }
   ],
   "source": [
    "torch.manual_seed(123)\n",
    "batch_example=torch.randn(2,5)\n",
    "layer=nn.Sequential(nn.Linear(5,6),nn.ReLU())\n",
    "out=layer(batch_example)\n",
    "print(out)"
   ]
  },
  {
   "cell_type": "code",
   "execution_count": 39,
   "metadata": {},
   "outputs": [
    {
     "name": "stdout",
     "output_type": "stream",
     "text": [
      "Mean of the Inputs is:\n",
      " tensor([[0.1324],\n",
      "        [0.2170]], grad_fn=<MeanBackward1>)\n",
      "Variance of the inputs is:\n",
      " tensor([[0.0231],\n",
      "        [0.0398]], grad_fn=<VarBackward0>)\n"
     ]
    }
   ],
   "source": [
    "mean=out.mean(dim=-1,keepdim=True)\n",
    "var=out.var(dim=-1,keepdim=True)\n",
    "print(\"Mean of the Inputs is:\\n\",mean)\n",
    "print(\"Variance of the inputs is:\\n\",var)"
   ]
  },
  {
   "cell_type": "code",
   "execution_count": 40,
   "metadata": {},
   "outputs": [
    {
     "name": "stdout",
     "output_type": "stream",
     "text": [
      "Normalized Values:\n",
      " tensor([[ 0.6159,  1.4126, -0.8719,  0.5872, -0.8719, -0.8719],\n",
      "        [-0.0189,  0.1121, -1.0876,  1.5173,  0.5647, -1.0876]],\n",
      "       grad_fn=<DivBackward0>)\n",
      "Mean of Normalized values:\n",
      " tensor([[9.9341e-09],\n",
      "        [5.9605e-08]], grad_fn=<MeanBackward1>)\n",
      "Variance of Normalized Values:\n",
      " tensor([[1.0000],\n",
      "        [1.0000]], grad_fn=<VarBackward0>)\n"
     ]
    }
   ],
   "source": [
    "out_norm=(out-mean)/torch.sqrt(var)\n",
    "mean=out_norm.mean(dim=-1,keepdim=True)\n",
    "var=out_norm.var(dim=-1,keepdim=True)\n",
    "print(\"Normalized Values:\\n\",out_norm)\n",
    "print(\"Mean of Normalized values:\\n\",mean)\n",
    "print(\"Variance of Normalized Values:\\n\",var)\n"
   ]
  },
  {
   "cell_type": "code",
   "execution_count": 41,
   "metadata": {},
   "outputs": [
    {
     "name": "stdout",
     "output_type": "stream",
     "text": [
      "Normalized Values:\n",
      " tensor([[ 0.6159,  1.4126, -0.8719,  0.5872, -0.8719, -0.8719],\n",
      "        [-0.0189,  0.1121, -1.0876,  1.5173,  0.5647, -1.0876]],\n",
      "       grad_fn=<DivBackward0>)\n",
      "Mean of Normalized values:\n",
      " tensor([[    0.0000],\n",
      "        [    0.0000]], grad_fn=<MeanBackward1>)\n",
      "Variance of Normalized Values:\n",
      " tensor([[1.0000],\n",
      "        [1.0000]], grad_fn=<VarBackward0>)\n"
     ]
    }
   ],
   "source": [
    "torch.set_printoptions(sci_mode=False)\n",
    "\n",
    "\n",
    "print(\"Normalized Values:\\n\",out_norm)\n",
    "print(\"Mean of Normalized values:\\n\",mean)\n",
    "print(\"Variance of Normalized Values:\\n\",var)\n"
   ]
  },
  {
   "cell_type": "markdown",
   "metadata": {},
   "source": [
    "Making the class of this code\n"
   ]
  },
  {
   "cell_type": "code",
   "execution_count": 42,
   "metadata": {},
   "outputs": [],
   "source": [
    "class LayerNorm(nn.Module):\n",
    "    def __init__(self, emb_dim):\n",
    "        super().__init__()\n",
    "        self.eps = 1e-5\n",
    "        self.scale = nn.Parameter(torch.ones(emb_dim))\n",
    "        self.shift = nn.Parameter(torch.zeros(emb_dim))\n",
    "\n",
    "    def forward(self, x):\n",
    "        mean = x.mean(dim=-1, keepdim=True)\n",
    "        var  = x.var(dim=-1, keepdim=True, unbiased=False)\n",
    "        norm_x = (x - mean) / torch.sqrt(var + self.eps)\n",
    "        return self.scale * norm_x + self.shift"
   ]
  },
  {
   "cell_type": "code",
   "execution_count": 43,
   "metadata": {},
   "outputs": [
    {
     "name": "stdout",
     "output_type": "stream",
     "text": [
      "Mean:\n",
      " tensor([[    -0.0000],\n",
      "        [     0.0000]], grad_fn=<MeanBackward1>)\n",
      "Variance:\n",
      " tensor([[1.0000],\n",
      "        [1.0000]], grad_fn=<VarBackward0>)\n"
     ]
    }
   ],
   "source": [
    "ln = LayerNorm(emb_dim=5)\n",
    "out_ln = ln(batch_example)\n",
    "mean = out_ln.mean(dim=-1, keepdim=True)\n",
    "var = out_ln.var(dim=-1, unbiased=False, keepdim=True)\n",
    "print(\"Mean:\\n\", mean)\n",
    "print(\"Variance:\\n\", var)"
   ]
  },
  {
   "cell_type": "markdown",
   "metadata": {},
   "source": [
    "GELU Activation Function"
   ]
  },
  {
   "cell_type": "code",
   "execution_count": 44,
   "metadata": {},
   "outputs": [],
   "source": [
    "class GELU(nn.Module):\n",
    "    def __init__(self):\n",
    "        super().__init__()\n",
    "\n",
    "    def forward(self, x):\n",
    "        return 0.5 * x * (1 + torch.tanh(\n",
    "            torch.sqrt(torch.tensor(2.0 / torch.pi)) * \n",
    "            (x + 0.044715 * torch.pow(x, 3))\n",
    "        ))"
   ]
  },
  {
   "cell_type": "code",
   "execution_count": 45,
   "metadata": {},
   "outputs": [],
   "source": [
    "class FeedForward(nn.Module):\n",
    "    def __init__(self, cfg):\n",
    "        super().__init__()\n",
    "        self.layers = nn.Sequential(\n",
    "            nn.Linear(cfg[\"emb_dim\"], 4 * cfg[\"emb_dim\"]),\n",
    "            GELU(),\n",
    "            nn.Linear(4 * cfg[\"emb_dim\"], cfg[\"emb_dim\"]),\n",
    "        )\n",
    "\n",
    "    def forward(self, x):\n",
    "        return self.layers(x)"
   ]
  },
  {
   "cell_type": "code",
   "execution_count": 46,
   "metadata": {},
   "outputs": [
    {
     "name": "stdout",
     "output_type": "stream",
     "text": [
      "768\n"
     ]
    }
   ],
   "source": [
    "print(GPT_CONFIG_124M[\"emb_dim\"])\n"
   ]
  },
  {
   "cell_type": "code",
   "execution_count": 47,
   "metadata": {},
   "outputs": [
    {
     "name": "stdout",
     "output_type": "stream",
     "text": [
      "torch.Size([2, 3, 768])\n"
     ]
    }
   ],
   "source": [
    "ffn = FeedForward(GPT_CONFIG_124M)\n",
    "x = torch.rand(2, 3, 768) #A\n",
    "out = ffn(x)\n",
    "print(out.shape)"
   ]
  },
  {
   "cell_type": "markdown",
   "metadata": {},
   "source": [
    "ShortCut Connection"
   ]
  },
  {
   "cell_type": "code",
   "execution_count": 48,
   "metadata": {},
   "outputs": [],
   "source": [
    "class ExampleDeepNeuralNetwork(nn.Module):\n",
    "    def __init__(self, layer_sizes, use_shortcut):\n",
    "        super().__init__()\n",
    "        self.use_shortcut = use_shortcut\n",
    "        self.layers = nn.ModuleList([\n",
    "            nn.Sequential(nn.Linear(layer_sizes[0], layer_sizes[1]), GELU()),\n",
    "            nn.Sequential(nn.Linear(layer_sizes[1], layer_sizes[2]), GELU()),\n",
    "            nn.Sequential(nn.Linear(layer_sizes[2], layer_sizes[3]), GELU()),\n",
    "            nn.Sequential(nn.Linear(layer_sizes[3], layer_sizes[4]), GELU()),\n",
    "            nn.Sequential(nn.Linear(layer_sizes[4], layer_sizes[5]), GELU())\n",
    "        ])\n",
    "\n",
    "    def forward(self, x):\n",
    "        for layer in self.layers:\n",
    "            # Compute the output of the current layer\n",
    "            layer_output = layer(x)\n",
    "            # Check if shortcut can be applied\n",
    "            if self.use_shortcut and x.shape == layer_output.shape:\n",
    "                x = x + layer_output\n",
    "            else:\n",
    "                x = layer_output\n",
    "        return x\n"
   ]
  },
  {
   "cell_type": "code",
   "execution_count": 49,
   "metadata": {},
   "outputs": [],
   "source": [
    "layer_sizes = [3, 3, 3, 3, 3, 1]\n",
    "sample_input = torch.tensor([[1., 0., -1.]])\n",
    "torch.manual_seed(123) # specify random seed for the initial weights for reproducibility\n",
    "model_without_shortcut = ExampleDeepNeuralNetwork(\n",
    "layer_sizes, use_shortcut=False\n",
    ")"
   ]
  },
  {
   "cell_type": "code",
   "execution_count": 50,
   "metadata": {},
   "outputs": [],
   "source": [
    "layer_sizes = [3, 3, 3, 3, 3, 1]\n",
    "sample_input = torch.tensor([[1., 0., -1.]])\n",
    "torch.manual_seed(123) # specify random seed for the initial weights for reproducibility\n",
    "model_with_shortcut = ExampleDeepNeuralNetwork(\n",
    "layer_sizes, use_shortcut=True\n",
    ")"
   ]
  },
  {
   "cell_type": "code",
   "execution_count": 51,
   "metadata": {},
   "outputs": [],
   "source": [
    "def print_gradients(model, x):\n",
    "    # Forward pass\n",
    "    output = model(x)\n",
    "    target = torch.tensor([[0.]])\n",
    "\n",
    "    # Calculate loss based on how close the target\n",
    "    # and output are\n",
    "    loss = nn.MSELoss()\n",
    "    loss = loss(output, target)\n",
    "    \n",
    "    # Backward pass to calculate the gradients\n",
    "    loss.backward()\n",
    "\n",
    "    for name, param in model.named_parameters():\n",
    "        if 'weight' in name:\n",
    "            # Print the mean absolute gradient of the weights\n",
    "            print(f\"{name} has gradient mean of {param.grad.abs().mean().item()}\")"
   ]
  },
  {
   "cell_type": "code",
   "execution_count": 52,
   "metadata": {},
   "outputs": [
    {
     "name": "stdout",
     "output_type": "stream",
     "text": [
      "layers.0.0.weight has gradient mean of 0.00020173590746708214\n",
      "layers.1.0.weight has gradient mean of 0.0001201116101583466\n",
      "layers.2.0.weight has gradient mean of 0.0007152042235247791\n",
      "layers.3.0.weight has gradient mean of 0.0013988739810883999\n",
      "layers.4.0.weight has gradient mean of 0.00504964729771018\n"
     ]
    }
   ],
   "source": [
    "print_gradients(model_without_shortcut, sample_input)"
   ]
  },
  {
   "cell_type": "code",
   "execution_count": 53,
   "metadata": {},
   "outputs": [
    {
     "name": "stdout",
     "output_type": "stream",
     "text": [
      "layers.0.0.weight has gradient mean of 0.22169791162014008\n",
      "layers.1.0.weight has gradient mean of 0.20694102346897125\n",
      "layers.2.0.weight has gradient mean of 0.32896995544433594\n",
      "layers.3.0.weight has gradient mean of 0.2665732204914093\n",
      "layers.4.0.weight has gradient mean of 1.3258541822433472\n"
     ]
    }
   ],
   "source": [
    "print_gradients(model_with_shortcut, sample_input)"
   ]
  },
  {
   "cell_type": "code",
   "execution_count": 54,
   "metadata": {},
   "outputs": [],
   "source": [
    "GPT_CONFIG_124M = {\n",
    "    \"vocab_size\": 50257,    # Vocabulary size\n",
    "    \"context_length\": 1024, # Context length\n",
    "    \"emb_dim\": 768,         # Embedding dimension\n",
    "    \"n_heads\": 12,          # Number of attention heads\n",
    "    \"n_layers\": 12,         # Number of layers\n",
    "    \"drop_rate\": 0.1,       # Dropout rate\n",
    "    \"qkv_bias\": False       # Query-Key-Value bias\n",
    "}"
   ]
  },
  {
   "cell_type": "code",
   "execution_count": 55,
   "metadata": {},
   "outputs": [],
   "source": [
    "class TransformerBlock(nn.Module):\n",
    "    def __init__(self, cfg):\n",
    "        super().__init__()\n",
    "        self.att = MultiHeadAttention(\n",
    "            d_in=cfg[\"emb_dim\"],\n",
    "            d_out=cfg[\"emb_dim\"],\n",
    "            context_length=cfg[\"context_length\"],\n",
    "            num_heads=cfg[\"n_heads\"], \n",
    "            dropout=cfg[\"drop_rate\"],\n",
    "            qkv_bias=cfg[\"qkv_bias\"])\n",
    "        self.ff = FeedForward(cfg)\n",
    "        self.norm1 = LayerNorm(cfg[\"emb_dim\"])\n",
    "        self.norm2 = LayerNorm(cfg[\"emb_dim\"])\n",
    "        self.drop_shortcut = nn.Dropout(cfg[\"drop_rate\"])\n",
    "\n",
    "    def forward(self, x):\n",
    "        # Shortcut connection for attention block\n",
    "        shortcut = x\n",
    "        x = self.norm1(x) \n",
    "        x = self.att(x)  # Shape [batch_size, num_tokens, emb_size]\n",
    "        x = self.drop_shortcut(x)\n",
    "        x = x + shortcut  # Add the original input back\n",
    "\n",
    "        # Shortcut connection for feed forward block\n",
    "        shortcut = x\n",
    "        x = self.norm2(x)\n",
    "        x = self.ff(x)\n",
    "        x = self.drop_shortcut(x)\n",
    "        x = x + shortcut  # Add the original input back\n",
    "\n",
    "        return x"
   ]
  },
  {
   "cell_type": "code",
   "execution_count": 56,
   "metadata": {},
   "outputs": [
    {
     "name": "stdout",
     "output_type": "stream",
     "text": [
      "Input shape: torch.Size([2, 4, 768])\n",
      "Output shape: torch.Size([2, 4, 768])\n"
     ]
    }
   ],
   "source": [
    "torch.manual_seed(123)\n",
    "x = torch.rand(2, 4, 768) #A\n",
    "block = TransformerBlock(GPT_CONFIG_124M)\n",
    "output = block(x)\n",
    "print(\"Input shape:\", x.shape)\n",
    "print(\"Output shape:\", output.shape)"
   ]
  },
  {
   "cell_type": "markdown",
   "metadata": {},
   "source": [
    "Entire GPT Model"
   ]
  },
  {
   "cell_type": "code",
   "execution_count": 57,
   "metadata": {},
   "outputs": [],
   "source": [
    "class GPTModel(nn.Module):\n",
    "    def __init__(self, cfg):\n",
    "        super().__init__()\n",
    "        self.tok_emb = nn.Embedding(cfg[\"vocab_size\"], cfg[\"emb_dim\"])\n",
    "        self.pos_emb = nn.Embedding(cfg[\"context_length\"], cfg[\"emb_dim\"])\n",
    "        self.drop_emb = nn.Dropout(cfg[\"drop_rate\"])\n",
    "        \n",
    "        self.trf_blocks = nn.Sequential(\n",
    "            *[TransformerBlock(cfg) for _ in range(cfg[\"n_layers\"])])\n",
    "        \n",
    "        self.final_norm = LayerNorm(cfg[\"emb_dim\"])\n",
    "        self.out_head = nn.Linear(\n",
    "            cfg[\"emb_dim\"], cfg[\"vocab_size\"], bias=False\n",
    "        ) \n",
    "\n",
    "    def forward(self, in_idx):\n",
    "        batch_size, seq_len = in_idx.shape\n",
    "        tok_embeds = self.tok_emb(in_idx)\n",
    "        pos_embeds = self.pos_emb(torch.arange(seq_len, device=in_idx.device))\n",
    "        x = tok_embeds + pos_embeds  # Shape [batch_size, num_tokens, emb_size]\n",
    "        x = self.drop_emb(x)\n",
    "        x = self.trf_blocks(x)\n",
    "        x = self.final_norm(x)\n",
    "        logits = self.out_head(x)\n",
    "        return logits"
   ]
  },
  {
   "cell_type": "code",
   "execution_count": 58,
   "metadata": {},
   "outputs": [
    {
     "name": "stdout",
     "output_type": "stream",
     "text": [
      "Input batch:\n",
      " tensor([[6109, 3626, 6100,  345],\n",
      "        [6109, 1110, 6622,  257]])\n",
      "\n",
      "Output shape: torch.Size([2, 4, 50257])\n",
      "tensor([[[ 0.1381,  0.0077, -0.1963,  ..., -0.0222, -0.1060,  0.1717],\n",
      "         [ 0.3865, -0.8408, -0.6564,  ..., -0.5163,  0.2369, -0.3357],\n",
      "         [ 0.6989, -0.1829, -0.1631,  ...,  0.1472, -0.6504, -0.0056],\n",
      "         [-0.4290,  0.1669, -0.1258,  ...,  1.1579,  0.5303, -0.5549]],\n",
      "\n",
      "        [[ 0.1094, -0.2894, -0.1467,  ..., -0.0557,  0.2911, -0.2824],\n",
      "         [ 0.0882, -0.3552, -0.3527,  ...,  1.2930,  0.0053,  0.1898],\n",
      "         [ 0.6091,  0.4702, -0.4094,  ...,  0.7688,  0.3787, -0.1974],\n",
      "         [-0.0612, -0.0737,  0.4751,  ...,  1.2463, -0.3834,  0.0609]]],\n",
      "       grad_fn=<UnsafeViewBackward0>)\n"
     ]
    }
   ],
   "source": [
    "torch.manual_seed(123)\n",
    "model = GPTModel(GPT_CONFIG_124M)\n",
    "out = model(batch)\n",
    "print(\"Input batch:\\n\", batch)\n",
    "print(\"\\nOutput shape:\", out.shape)\n",
    "print(out)"
   ]
  },
  {
   "cell_type": "markdown",
   "metadata": {},
   "source": [
    "Total Number Of Trainable Parameters"
   ]
  },
  {
   "cell_type": "code",
   "execution_count": 59,
   "metadata": {},
   "outputs": [
    {
     "name": "stdout",
     "output_type": "stream",
     "text": [
      "Total number of parameters: 163,009,536\n"
     ]
    }
   ],
   "source": [
    "total_params = sum(p.numel() for p in model.parameters())\n",
    "print(f\"Total number of parameters: {total_params:,}\")"
   ]
  },
  {
   "cell_type": "code",
   "execution_count": 60,
   "metadata": {},
   "outputs": [
    {
     "name": "stdout",
     "output_type": "stream",
     "text": [
      "Token embedding layer shape: torch.Size([50257, 768])\n",
      "Output layer shape: torch.Size([50257, 768])\n"
     ]
    }
   ],
   "source": [
    "print(\"Token embedding layer shape:\", model.tok_emb.weight.shape)\n",
    "print(\"Output layer shape:\", model.out_head.weight.shape)"
   ]
  },
  {
   "cell_type": "code",
   "execution_count": 61,
   "metadata": {},
   "outputs": [
    {
     "name": "stdout",
     "output_type": "stream",
     "text": [
      "Number of trainable parameters considering weight tying: 124,412,160\n"
     ]
    }
   ],
   "source": [
    "total_params_gpt2 = total_params - sum(p.numel() for p in model.out_head.parameters())\n",
    "print(f\"Number of trainable parameters considering weight tying: {total_params_gpt2:,}\")"
   ]
  },
  {
   "cell_type": "markdown",
   "metadata": {},
   "source": [
    "Memory Requirement for this Model"
   ]
  },
  {
   "cell_type": "code",
   "execution_count": 62,
   "metadata": {},
   "outputs": [
    {
     "name": "stdout",
     "output_type": "stream",
     "text": [
      "Total size of the model: 621.83 MB\n"
     ]
    }
   ],
   "source": [
    "total_size_bytes = total_params * 4 #A\n",
    "total_size_mb = total_size_bytes / (1024 * 1024) #B\n",
    "print(f\"Total size of the model: {total_size_mb:.2f} MB\")"
   ]
  },
  {
   "cell_type": "markdown",
   "metadata": {},
   "source": [
    "Generating The New Word"
   ]
  },
  {
   "cell_type": "code",
   "execution_count": 63,
   "metadata": {},
   "outputs": [],
   "source": [
    "def generate_text_simple(model, idx, max_new_tokens, context_size):\n",
    "    # idx is (batch, n_tokens) array of indices in the current context\n",
    "    for _ in range(max_new_tokens):\n",
    "        \n",
    "        # Crop current context if it exceeds the supported context size\n",
    "        # E.g., if LLM supports only 5 tokens, and the context size is 10\n",
    "        # then only the last 5 tokens are used as context\n",
    "        idx_cond = idx[:, -context_size:]\n",
    "        \n",
    "        # Get the predictions\n",
    "        with torch.no_grad():\n",
    "            logits = model(idx_cond)\n",
    "        \n",
    "        # Focus only on the last time step\n",
    "        # (batch, n_tokens, vocab_size) becomes (batch, vocab_size)\n",
    "        logits = logits[:, -1, :]  \n",
    "\n",
    "        # Apply softmax to get probabilities\n",
    "        probas = torch.softmax(logits, dim=-1)  # (batch, vocab_size)\n",
    "\n",
    "        # Get the idx of the vocab entry with the highest probability value\n",
    "        idx_next = torch.argmax(probas, dim=-1, keepdim=True)  # (batch, 1)\n",
    "\n",
    "        # Append sampled index to the running sequence\n",
    "        idx = torch.cat((idx, idx_next), dim=1)  # (batch, n_tokens+1)\n",
    "\n",
    "    return idx"
   ]
  },
  {
   "cell_type": "code",
   "execution_count": 64,
   "metadata": {},
   "outputs": [
    {
     "name": "stdout",
     "output_type": "stream",
     "text": [
      "encoded: [15496, 11, 314, 716]\n",
      "encoded_tensor.shape: torch.Size([1, 4])\n"
     ]
    }
   ],
   "source": [
    "start_context = \"Hello, I am\"\n",
    "encoded = tokenizer.encode(start_context)\n",
    "print(\"encoded:\", encoded)\n",
    "encoded_tensor = torch.tensor(encoded).unsqueeze(0) #A\n",
    "print(\"encoded_tensor.shape:\", encoded_tensor.shape)"
   ]
  },
  {
   "cell_type": "code",
   "execution_count": 65,
   "metadata": {},
   "outputs": [
    {
     "name": "stdout",
     "output_type": "stream",
     "text": [
      "Output: tensor([[15496,    11,   314,   716, 27018, 24086, 47843, 30961, 42348,  7267]])\n",
      "Output length: 10\n"
     ]
    }
   ],
   "source": [
    "model.eval() #A\n",
    "out = generate_text_simple(\n",
    "model=model,\n",
    "idx=encoded_tensor,\n",
    "max_new_tokens=6,\n",
    "context_size=GPT_CONFIG_124M[\"context_length\"]\n",
    ")\n",
    "print(\"Output:\", out)\n",
    "print(\"Output length:\", len(out[0]))"
   ]
  },
  {
   "cell_type": "code",
   "execution_count": 66,
   "metadata": {},
   "outputs": [
    {
     "name": "stdout",
     "output_type": "stream",
     "text": [
      "Hello, I am Featureiman Byeswickattribute argue\n"
     ]
    }
   ],
   "source": [
    "decoded_text = tokenizer.decode(out.squeeze(0).tolist())\n",
    "print(decoded_text)"
   ]
  }
 ],
 "metadata": {
  "kernelspec": {
   "display_name": "base",
   "language": "python",
   "name": "python3"
  },
  "language_info": {
   "codemirror_mode": {
    "name": "ipython",
    "version": 3
   },
   "file_extension": ".py",
   "mimetype": "text/x-python",
   "name": "python",
   "nbconvert_exporter": "python",
   "pygments_lexer": "ipython3",
   "version": "3.12.4"
  }
 },
 "nbformat": 4,
 "nbformat_minor": 2
}
